{
 "cells": [
  {
   "cell_type": "code",
   "execution_count": 1,
   "metadata": {},
   "outputs": [],
   "source": [
    "import pathlib\n",
    "import subprocess\n",
    "import os\n",
    "\n",
    "PDF_BOX_JAR = \"pdfbox-app-2.0.25.jar\"\n",
    "\n",
    "def process_file(filepath):\n",
    "    text = subprocess.run(\n",
    "                [\"java\", \"-jar\", PDF_BOX_JAR, \"ExtractText\", \"-console\", filepath],\n",
    "                stdout=subprocess.PIPE,\n",
    "            )\n",
    "    text = text.stdout\n",
    "    text = text.decode(\"utf-8\")\n",
    "    return text"
   ]
  },
  {
   "cell_type": "code",
   "execution_count": 5,
   "metadata": {},
   "outputs": [
    {
     "name": "stdout",
     "output_type": "stream",
     "text": [
      "writing: 1-s2.0-S2772503021000013-main\n",
      "writing: 1-s2.0-S2213597921000689-main\n",
      "writing: 1-s2.0-S2667102621000127-main\n",
      "writing: 1-s2.0-S2210832717300947-main\n",
      "writing: 1-s2.0-S2314717218300436-main\n",
      "writing: 1-s2.0-S2666629421000188-main\n",
      "writing: .DS_S\n",
      "writing: 1-s2.0-S2210832717303526-main\n",
      "writing: 1-s2.0-S2667119021000070-main\n",
      "writing: 1-s2.0-S2772503021000025-main\n",
      "writing: 1-s2.0-S2210832717302417-main\n",
      "writing: 1-s2.0-S2590049822000121-main\n",
      "writing: 1-s2.0-S2666498422000011-main\n",
      "writing: 1-s2.0-S2666534422000010-main\n",
      "writing: 1-s2.0-S2187076417300957-main\n",
      "writing: .DS_S\n",
      "writing: 1-s2.0-S2667056921001218-main\n",
      "writing: 1-s2.0-S2589004222001316-main\n",
      "writing: 1-s2.0-S2666248522000014-main\n",
      "writing: 1-s2.0-S2667136021000017-main\n",
      "writing: 1-s2.0-S2078152016300360-main\n",
      "writing: 1-s2.0-S2468217921000848-main\n",
      "writing: 1-s2.0-S1687850722000115-main\n",
      "writing: 1-s2.0-S2090997718300725-main\n",
      "writing: 1-s2.0-S1350417721003874-main\n",
      "writing: 1-s2.0-S2666950122000074-main\n",
      "writing: 1-s2.0-S2213597921000677-main\n",
      "writing: 1-s2.0-S2352451021000123-main\n",
      "writing: .DS_S\n",
      "writing: 1-s2.0-S2468080X18300438-main\n",
      "writing: 1-s2.0-S2666386421004136-main\n",
      "writing: 1-s2.0-S2666386421004367-main\n",
      "writing: 1-s2.0-S2666522022000016-main\n"
     ]
    }
   ],
   "source": [
    "folders = ['CS', 'Materials', 'Physics']\n",
    "for folder in folders:\n",
    "    filenames = os.listdir(folder)\n",
    "    for filename in filenames:\n",
    "        print(\"writing:\", filename[:-4])\n",
    "        text = process_file(os.path.join(folder,filename))\n",
    "        with open(filename[7:-9] + \".txt\", \"w\") as f:\n",
    "            f.write(text)"
   ]
  },
  {
   "cell_type": "code",
   "execution_count": null,
   "metadata": {},
   "outputs": [],
   "source": [
    "# ---- after manual removing header and reference..."
   ]
  },
  {
   "cell_type": "code",
   "execution_count": 6,
   "metadata": {},
   "outputs": [],
   "source": [
    "import spacy\n",
    "import random\n",
    "random.seed(0)\n",
    "\n",
    "nlp = spacy.load(\"en_core_web_sm\")\n",
    "result = []\n",
    "\n",
    "for filename in os.listdir():\n",
    "    if \".txt\" in filename:\n",
    "        with open(filename, \"r\") as f:\n",
    "            content = f.read()\n",
    "            content = content.split('\\n')\n",
    "            content = \" \".join(content)\n",
    "            content = nlp(content)\n",
    "            for sent in content.sents:\n",
    "                s = []\n",
    "                for tok in sent:\n",
    "                    s.append(tok.text)\n",
    "                if len(s) > 3:\n",
    "                    result.append(\" \".join(s))\n",
    "\n",
    "random.shuffle(result)\n",
    "with open(\"compiled_unlabelled_data.txt\", \"w\") as f:\n",
    "    for sent in result:\n",
    "        f.write(sent)\n",
    "        f.write('\\n')"
   ]
  },
  {
   "cell_type": "code",
   "execution_count": null,
   "metadata": {},
   "outputs": [],
   "source": []
  }
 ],
 "metadata": {
  "kernelspec": {
   "display_name": ".venv",
   "language": "python",
   "name": ".venv"
  },
  "language_info": {
   "codemirror_mode": {
    "name": "ipython",
    "version": 3
   },
   "file_extension": ".py",
   "mimetype": "text/x-python",
   "name": "python",
   "nbconvert_exporter": "python",
   "pygments_lexer": "ipython3",
   "version": "3.7.6"
  }
 },
 "nbformat": 4,
 "nbformat_minor": 2
}
