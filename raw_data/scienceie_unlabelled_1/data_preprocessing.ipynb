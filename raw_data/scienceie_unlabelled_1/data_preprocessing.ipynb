{
 "cells": [
  {
   "cell_type": "code",
   "execution_count": 6,
   "metadata": {},
   "outputs": [],
   "source": [
    "import pathlib\n",
    "import subprocess\n",
    "import os\n",
    "\n",
    "PDF_BOX_JAR = \"pdfbox-app-2.0.25.jar\"\n",
    "\n",
    "def process_file(filepath):\n",
    "    text = subprocess.run(\n",
    "                [\"java\", \"-jar\", PDF_BOX_JAR, \"ExtractText\", \"-console\", filepath],\n",
    "                stdout=subprocess.PIPE,\n",
    "            )\n",
    "    text = text.stdout\n",
    "    text = text.decode(\"utf-8\")\n",
    "    return text"
   ]
  },
  {
   "cell_type": "code",
   "execution_count": 20,
   "metadata": {},
   "outputs": [
    {
     "name": "stdout",
     "output_type": "stream",
     "text": [
      "writing: S2667318522000022\n",
      "writing: S2314728818300072\n",
      "writing: S2096720921000440\n",
      "writing: S2665963821000798\n",
      "writing: S2772528622000012\n",
      "writing: S2667345221000055\n",
      "writing: S2096579621000899\n",
      "writing: S2666764921000473\n",
      "writing: S2215098622000076\n",
      "writing: S2666827021000980\n",
      "writing: S2405844022001347\n",
      "writing: S1687850722000012\n",
      "writing: S2666386421004367\n",
      "writing: S258996512100091X\n",
      "writing: S2588840421000548\n",
      "writing: S245217791730097X\n",
      "writing: S2238785421015763\n",
      "writing: S2772683521000029\n",
      "writing: S2666352X21000273\n",
      "writing: S2452199X21004850\n",
      "writing: S1687850722000012\n",
      "writing: S2667325822000036\n",
      "writing: S2590147821000504\n",
      "writing: S2666032621000399\n",
      "writing: S2666555721000599\n",
      "writing: S2667022421000311\n",
      "writing: S2666523922000058\n",
      "writing: S2590007221000204\n",
      "writing: S2405428321000095\n",
      "writing: S2666522022000016\n"
     ]
    }
   ],
   "source": [
    "folders = ['CS', 'Materials', 'Physics']\n",
    "for folder in folders:\n",
    "    filenames = os.listdir(folder)\n",
    "    for filename in filenames:\n",
    "        print(\"writing:\", filename[:-4])\n",
    "        text = process_file(os.path.join(folder,filename))\n",
    "        with open(filename[:-4] + \".txt\", \"w\") as f:\n",
    "            f.write(text)"
   ]
  },
  {
   "cell_type": "code",
   "execution_count": null,
   "metadata": {},
   "outputs": [],
   "source": [
    "# ---- after manual removing header and reference..."
   ]
  },
  {
   "cell_type": "code",
   "execution_count": 40,
   "metadata": {},
   "outputs": [],
   "source": [
    "import spacy\n",
    "import random\n",
    "random.seed(0)\n",
    "\n",
    "nlp = spacy.load(\"en_core_web_sm\")\n",
    "result = []\n",
    "\n",
    "for filename in os.listdir():\n",
    "    if \".txt\" in filename:\n",
    "        with open(filename, \"r\") as f:\n",
    "            content = f.read()\n",
    "            content = content.split('\\n')\n",
    "            content = \" \".join(content)\n",
    "            content = nlp(content)\n",
    "            for sent in content.sents:\n",
    "                s = []\n",
    "                for tok in sent:\n",
    "                    s.append(tok.text)\n",
    "                if len(s) > 3:\n",
    "                    result.append(\" \".join(s))\n",
    "\n",
    "random.shuffle(result)\n",
    "with open(\"compiled_unlabelled_data.txt\", \"w\") as f:\n",
    "    for sent in result:\n",
    "        f.write(sent)\n",
    "        f.write('\\n')"
   ]
  },
  {
   "cell_type": "code",
   "execution_count": null,
   "metadata": {},
   "outputs": [],
   "source": []
  }
 ],
 "metadata": {
  "kernelspec": {
   "display_name": ".venv",
   "language": "python",
   "name": ".venv"
  },
  "language_info": {
   "codemirror_mode": {
    "name": "ipython",
    "version": 3
   },
   "file_extension": ".py",
   "mimetype": "text/x-python",
   "name": "python",
   "nbconvert_exporter": "python",
   "pygments_lexer": "ipython3",
   "version": "3.7.6"
  }
 },
 "nbformat": 4,
 "nbformat_minor": 2
}
