{
 "cells": [
  {
   "cell_type": "code",
   "execution_count": 6,
   "metadata": {},
   "outputs": [],
   "source": [
    "import pathlib\n",
    "import subprocess\n",
    "import os\n",
    "\n",
    "PDF_BOX_JAR = \"pdfbox-app-2.0.25.jar\"\n",
    "\n",
    "def process_file(filepath):\n",
    "    text = subprocess.run(\n",
    "                [\"java\", \"-jar\", PDF_BOX_JAR, \"ExtractText\", \"-console\", filepath],\n",
    "                stdout=subprocess.PIPE,\n",
    "            )\n",
    "    text = text.stdout\n",
    "    text = text.decode(\"utf-8\")\n",
    "    return text"
   ]
  },
  {
   "cell_type": "code",
   "execution_count": null,
   "metadata": {},
   "outputs": [
    {
     "name": "stdout",
     "output_type": "stream",
     "text": [
      "S2667318522000022\n",
      "S2314728818300072\n",
      "S2096720921000440\n",
      "S2665963821000798\n",
      "S2772528622000012\n",
      "S2667345221000055\n",
      "S2096579621000899\n",
      "S2666764921000473\n",
      "S2215098622000076\n",
      "S2666827021000980\n",
      "S2405844022001347\n",
      "S1687850722000012\n",
      "S2666386421004367\n",
      "S258996512100091X\n",
      "S2588840421000548\n",
      "S245217791730097X\n",
      "S2238785421015763\n",
      "S2772683521000029\n",
      "S2666352X21000273\n"
     ]
    }
   ],
   "source": [
    "folders = ['CS', 'Materials', 'Physics']\n",
    "for folder in folders:\n",
    "    filenames = os.listdir(folder)\n",
    "    for filename in filenames:\n",
    "        print(\"writing:\", filename[:-4])\n",
    "        text = process_file(filename)\n",
    "        with open(filename[:-4] + \".txt\", \"w\") as f:\n",
    "            f.write(text)"
   ]
  },
  {
   "cell_type": "code",
   "execution_count": null,
   "metadata": {},
   "outputs": [],
   "source": []
  }
 ],
 "metadata": {
  "kernelspec": {
   "display_name": ".venv",
   "language": "python",
   "name": ".venv"
  },
  "language_info": {
   "codemirror_mode": {
    "name": "ipython",
    "version": 3
   },
   "file_extension": ".py",
   "mimetype": "text/x-python",
   "name": "python",
   "nbconvert_exporter": "python",
   "pygments_lexer": "ipython3",
   "version": "3.7.6"
  }
 },
 "nbformat": 4,
 "nbformat_minor": 2
}
