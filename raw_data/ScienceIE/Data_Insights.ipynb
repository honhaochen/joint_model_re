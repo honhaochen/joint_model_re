{
 "cells": [
  {
   "cell_type": "code",
   "execution_count": 6,
   "metadata": {},
   "outputs": [
    {
     "name": "stdout",
     "output_type": "stream",
     "text": [
      "468\n",
      "352\n",
      "65457\n"
     ]
    }
   ],
   "source": [
    "current_sent = []\n",
    "syn_tags = 0\n",
    "hyp_tags = 0\n",
    "num_tokens = 0\n",
    "with open(\"train.txt\") as f:\n",
    "    for line in f:\n",
    "        if line.startswith('#'):\n",
    "            continue\n",
    "        else:\n",
    "            num, token, tag, label, _ = line.split(\"\\t\")\n",
    "            label = eval(label)\n",
    "            if label[0] != 'N':\n",
    "                for l in label:\n",
    "                    if l == \"Synonym-of\":\n",
    "                        syn_tags += 1\n",
    "                    if l == \"Hyponym-of\":\n",
    "                        hyp_tags += 1\n",
    "            num_tokens+= 1\n",
    "        \n",
    "print(syn_tags)\n",
    "print(hyp_tags)\n",
    "print(num_tokens)"
   ]
  },
  {
   "cell_type": "code",
   "execution_count": 7,
   "metadata": {},
   "outputs": [
    {
     "name": "stdout",
     "output_type": "stream",
     "text": [
      "204\n",
      "79\n",
      "22061\n"
     ]
    }
   ],
   "source": [
    "current_sent = []\n",
    "syn_tags = 0\n",
    "hyp_tags = 0\n",
    "num_tokens = 0\n",
    "with open(\"test.txt\") as f:\n",
    "    for line in f:\n",
    "        if line.startswith('#'):\n",
    "            continue\n",
    "        else:\n",
    "            num, token, tag, label, _ = line.split(\"\\t\")\n",
    "            label = eval(label)\n",
    "            if label[0] != 'N':\n",
    "                for l in label:\n",
    "                    if l == \"Synonym-of\":\n",
    "                        syn_tags += 1\n",
    "                    if l == \"Hyponym-of\":\n",
    "                        hyp_tags += 1\n",
    "            num_tokens+= 1\n",
    "        \n",
    "print(syn_tags)\n",
    "print(hyp_tags)\n",
    "print(num_tokens)"
   ]
  },
  {
   "cell_type": "code",
   "execution_count": 8,
   "metadata": {},
   "outputs": [
    {
     "name": "stdout",
     "output_type": "stream",
     "text": [
      "88\n",
      "93\n",
      "11253\n"
     ]
    }
   ],
   "source": [
    "current_sent = []\n",
    "syn_tags = 0\n",
    "hyp_tags = 0\n",
    "num_tokens = 0\n",
    "with open(\"dev.txt\") as f:\n",
    "    for line in f:\n",
    "        if line.startswith('#'):\n",
    "            continue\n",
    "        else:\n",
    "            num, token, tag, label, _ = line.split(\"\\t\")\n",
    "            label = eval(label)\n",
    "            if label[0] != 'N':\n",
    "                for l in label:\n",
    "                    if l == \"Synonym-of\":\n",
    "                        syn_tags += 1\n",
    "                    if l == \"Hyponym-of\":\n",
    "                        hyp_tags += 1\n",
    "            num_tokens+= 1\n",
    "        \n",
    "print(syn_tags)\n",
    "print(hyp_tags)\n",
    "print(num_tokens)"
   ]
  },
  {
   "cell_type": "code",
   "execution_count": 5,
   "metadata": {},
   "outputs": [
    {
     "data": {
      "text/plain": [
       "1.2527308003727637"
      ]
     },
     "execution_count": 5,
     "metadata": {},
     "output_type": "execute_result"
    }
   ],
   "source": [
    "820/65457 * 100"
   ]
  },
  {
   "cell_type": "code",
   "execution_count": 9,
   "metadata": {},
   "outputs": [
    {
     "name": "stdout",
     "output_type": "stream",
     "text": [
      "181\n",
      "11253\n",
      "11253\n"
     ]
    }
   ],
   "source": [
    "current_sent = []\n",
    "num_tags = 0\n",
    "num_tokens = 0\n",
    "with open(\"dev.txt\") as f:\n",
    "    for line in f:\n",
    "        if line.startswith('#'):\n",
    "            continue\n",
    "        else:\n",
    "            num, token, tag, label, _ = line.split(\"\\t\")\n",
    "            label = eval(label)\n",
    "            if label[0] != 'N':\n",
    "                num_tags += len(label)\n",
    "            num_tokens+= 1\n",
    "        \n",
    "print(num_tags)\n",
    "print(num_tokens)\n",
    "print(num_tokens)"
   ]
  },
  {
   "cell_type": "code",
   "execution_count": 2,
   "metadata": {},
   "outputs": [
    {
     "data": {
      "text/plain": [
       "0.016084599662312273"
      ]
     },
     "execution_count": 2,
     "metadata": {},
     "output_type": "execute_result"
    }
   ],
   "source": [
    "181/11253"
   ]
  },
  {
   "cell_type": "code",
   "execution_count": null,
   "metadata": {},
   "outputs": [],
   "source": []
  }
 ],
 "metadata": {
  "kernelspec": {
   "display_name": ".venv",
   "language": "python",
   "name": ".venv"
  },
  "language_info": {
   "codemirror_mode": {
    "name": "ipython",
    "version": 3
   },
   "file_extension": ".py",
   "mimetype": "text/x-python",
   "name": "python",
   "nbconvert_exporter": "python",
   "pygments_lexer": "ipython3",
   "version": "3.7.6"
  }
 },
 "nbformat": 4,
 "nbformat_minor": 2
}
